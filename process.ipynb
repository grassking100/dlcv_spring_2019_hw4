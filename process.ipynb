{
 "cells": [
  {
   "cell_type": "code",
   "execution_count": null,
   "metadata": {},
   "outputs": [],
   "source": [
    "from reader import getVideoList,readShortVideo\n",
    "from utils import load_data\n",
    "import numpy as np\n",
    "import pandas as pd"
   ]
  },
  {
   "cell_type": "code",
   "execution_count": null,
   "metadata": {},
   "outputs": [],
   "source": [
    "rescale_train_x,train_label = load_data('hw4_data/TrimmedVideos/video/train',\n",
    "                                        'hw4_data/TrimmedVideos/label/gt_train.csv',\n",
    "                                        use_sample=True,rescale_factor=1)\n",
    "np.save('hw4_data/video_0_5_12/trimmed_train.npy',rescale_train_x)"
   ]
  },
  {
   "cell_type": "code",
   "execution_count": null,
   "metadata": {},
   "outputs": [],
   "source": [
    "rescale_val_x,val_label = load_data('hw4_data/TrimmedVideos/video/valid',\n",
    "                                    'hw4_data/TrimmedVideos/label/gt_valid.csv',use_sample=True,rescale_factor=1)\n",
    "np.save('hw4_data/video_0_5_12/trimmed_val.npy',rescale_val_x)"
   ]
  },
  {
   "cell_type": "code",
   "execution_count": null,
   "metadata": {},
   "outputs": [],
   "source": [
    "rescale_train_x,train_label,train_lengths = load_data('hw4_data/TrimmedVideos/video/train',\n",
    "                                                      'hw4_data/TrimmedVideos/label/gt_train.csv',use_sample=False,\n",
    "                                                      rescale_factor=1,downsample_factor=12)\n",
    "np.save('hw4_data/video_down_12/trimmed_train_full.npy',rescale_train_x)\n"
   ]
  },
  {
   "cell_type": "code",
   "execution_count": null,
   "metadata": {},
   "outputs": [],
   "source": [
    "pd.DataFrame(train_lengths).to_csv('hw4_data/video_down_12/trimmed_train_full.txt',index=None,header=None)"
   ]
  },
  {
   "cell_type": "code",
   "execution_count": null,
   "metadata": {},
   "outputs": [],
   "source": [
    "rescale_val_x,val_label,val_lengths = load_data('hw4_data/TrimmedVideos/video/valid',\n",
    "                                                'hw4_data/TrimmedVideos/label/gt_valid.csv',use_sample=False,\n",
    "                                                rescale_factor=1,downsample_factor=12)\n",
    "np.save('hw4_data/video_down_12/trimmed_val_full.npy',rescale_val_x)\n",
    "pd.DataFrame(val_lengths).to_csv('hw4_data/video_down_12/trimmedl_val_full.txt',index=None,header=None)"
   ]
  },
  {
   "cell_type": "code",
   "execution_count": null,
   "metadata": {},
   "outputs": [],
   "source": []
  }
 ],
 "metadata": {
  "kernelspec": {
   "display_name": "Python 3",
   "language": "python",
   "name": "python3"
  },
  "language_info": {
   "codemirror_mode": {
    "name": "ipython",
    "version": 3
   },
   "file_extension": ".py",
   "mimetype": "text/x-python",
   "name": "python",
   "nbconvert_exporter": "python",
   "pygments_lexer": "ipython3",
   "version": "3.5.2"
  }
 },
 "nbformat": 4,
 "nbformat_minor": 2
}
