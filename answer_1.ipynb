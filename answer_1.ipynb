{
 "cells": [
  {
   "cell_type": "code",
   "execution_count": null,
   "metadata": {},
   "outputs": [],
   "source": [
    "import os\n",
    "os.environ[\"CUDA_VISIBLE_DEVICES\"]=\"1\"\n",
    "import torch\n",
    "torch.backends.cudnn.benchmark = True"
   ]
  },
  {
   "cell_type": "code",
   "execution_count": null,
   "metadata": {},
   "outputs": [],
   "source": [
    "from reader import getVideoList\n",
    "import numpy as np\n",
    "from model import FeatureBlock\n",
    "from worker import BasicWorker"
   ]
  },
  {
   "cell_type": "code",
   "execution_count": null,
   "metadata": {},
   "outputs": [],
   "source": [
    "rescale_train_x = np.load('hw4_data/trimmed_train.npy')\n",
    "train_y = getVideoList('hw4_data/TrimmedVideos/label/gt_train.csv')['Action_labels']\n",
    "rescale_val_x = np.load('hw4_data/trimmed_val.npy')\n",
    "val_y = getVideoList('hw4_data/TrimmedVideos/label/gt_valid.csv')['Action_labels']\n",
    "train_y = np.array(train_y).astype('int')\n",
    "val_y = np.array(val_y).astype('int')"
   ]
  },
  {
   "cell_type": "code",
   "execution_count": null,
   "metadata": {
    "scrolled": true
   },
   "outputs": [],
   "source": [
    "model = FeatureBlock(use_leaky_relu=True).cuda()\n",
    "worker = BasicWorker()\n",
    "optim = torch.optim.Adam(model.parameters(),lr=1e-5)\n",
    "record = worker.train(model,optim,\n",
    "                      rescale_train_x,train_y,\n",
    "                      rescale_val_x,val_y)"
   ]
  }
 ],
 "metadata": {
  "kernelspec": {
   "display_name": "Python 3",
   "language": "python",
   "name": "python3"
  },
  "language_info": {
   "codemirror_mode": {
    "name": "ipython",
    "version": 3
   },
   "file_extension": ".py",
   "mimetype": "text/x-python",
   "name": "python",
   "nbconvert_exporter": "python",
   "pygments_lexer": "ipython3",
   "version": "3.5.2"
  }
 },
 "nbformat": 4,
 "nbformat_minor": 2
}
