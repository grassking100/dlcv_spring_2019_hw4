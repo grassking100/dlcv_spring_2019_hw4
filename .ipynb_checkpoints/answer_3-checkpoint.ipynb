{
 "cells": [
  {
   "cell_type": "code",
   "execution_count": 1,
   "metadata": {},
   "outputs": [
    {
     "name": "stderr",
     "output_type": "stream",
     "text": [
      "Using TensorFlow backend.\n"
     ]
    }
   ],
   "source": [
    "import os\n",
    "os.environ[\"CUDA_VISIBLE_DEVICES\"]=\"2\"\n",
    "import torch\n",
    "torch.backends.cudnn.benchmark = True\n",
    "from utils import load_full_videos\n",
    "from model import CRClassifier\n",
    "from worker import SeqWorker"
   ]
  },
  {
   "cell_type": "code",
   "execution_count": 4,
   "metadata": {},
   "outputs": [],
   "source": [
    "train_video,train_label,train_length = load_full_videos('hw4_data/FullLengthVideos/videos/train','hw4_data/FullLengthVideos/labels/train')"
   ]
  },
  {
   "cell_type": "code",
   "execution_count": 2,
   "metadata": {},
   "outputs": [],
   "source": [
    "val_video,val_label,val_length = load_full_videos('hw4_data/FullLengthVideos/videos/valid','hw4_data/FullLengthVideos/labels/valid')"
   ]
  },
  {
   "cell_type": "code",
   "execution_count": 5,
   "metadata": {},
   "outputs": [
    {
     "name": "stdout",
     "output_type": "stream",
     "text": [
      "6.64 minutes/ epoch:1/ record:{'train_accuracy': 51.74, 'train_loss': 0.65, 'val_loss': 0.66, 'val_accuracy': 54.41}\n"
     ]
    }
   ],
   "source": [
    "classifier = CRClassifier(hidden=512,num_layers=9,get_last=False).cuda()\n",
    "classifier.load_state_dict(torch.load('problem_2/answer_2_classifier_46.55.pth'))\n",
    "worker = SeqWorker()\n",
    "worker.batch_size=1\n",
    "worker.epoch=10\n",
    "optim = torch.optim.Adam(classifier.parameters(),lr=1e-5)\n",
    "record = worker.train(classifier,optim,\n",
    "                      train_video,train_label,\n",
    "                      val_video,val_label,\n",
    "                      train_length,val_length,\n",
    "                      is_seq2seq=True)"
   ]
  },
  {
   "cell_type": "code",
   "execution_count": null,
   "metadata": {},
   "outputs": [],
   "source": []
  },
  {
   "cell_type": "code",
   "execution_count": null,
   "metadata": {},
   "outputs": [],
   "source": []
  }
 ],
 "metadata": {
  "kernelspec": {
   "display_name": "Python 3",
   "language": "python",
   "name": "python3"
  },
  "language_info": {
   "codemirror_mode": {
    "name": "ipython",
    "version": 3
   },
   "file_extension": ".py",
   "mimetype": "text/x-python",
   "name": "python",
   "nbconvert_exporter": "python",
   "pygments_lexer": "ipython3",
   "version": "3.5.2"
  }
 },
 "nbformat": 4,
 "nbformat_minor": 2
}
