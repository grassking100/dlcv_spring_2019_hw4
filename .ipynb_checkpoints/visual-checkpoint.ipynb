{
 "cells": [
  {
   "cell_type": "code",
   "execution_count": 1,
   "metadata": {},
   "outputs": [
    {
     "name": "stderr",
     "output_type": "stream",
     "text": [
      "Using TensorFlow backend.\n"
     ]
    }
   ],
   "source": [
    "from visual import feature_embedding\n",
    "import sys\n",
    "import torch\n",
    "torch.backends.cudnn.benchmark = True\n",
    "from utils import load_data\n",
    "from model import CNNFeature,RNNFeature\n",
    "from worker import seq_predict,basic_predict\n",
    "import numpy as np\n",
    "from reader import getVideoList\n",
    "import pandas as pd\n",
    "from utils import read_frames\n",
    "from matplotlib import pyplot as plt\n",
    "import json\n",
    "def plot_acc(record,title):\n",
    "    plt.plot(record['train_accuracy'],label='train')\n",
    "    plt.plot(record['val_accuracy'],label='val')\n",
    "    plt.xlabel('epoch')\n",
    "    plt.ylabel('accuracy')\n",
    "    plt.title(title)\n",
    "    plt.legend()\n",
    "    plt.show()\n",
    "def plot_loss(record,title):\n",
    "    plt.plot(record['train_loss'],label='train')\n",
    "    plt.plot(record['val_loss'],label='val')\n",
    "    plt.xlabel('epoch')\n",
    "    plt.ylabel('accuracy')\n",
    "    plt.title(title)\n",
    "    plt.legend()\n",
    "    plt.show()\n",
    "def get_labels(path):\n",
    "    labels = []\n",
    "    with open(path,\"r\") as fp:\n",
    "        for line in fp:\n",
    "            labels.append(int(line.rstrip(\"\\n\")))\n",
    "    return labels\n",
    "def get_ann(path):\n",
    "    indice = get_labels(path)\n",
    "    indice = np.array(indice)\n",
    "    one_hot = np.zeros((indice.size,indice.max()+1))\n",
    "    one_hot[np.arange(indice.size),indice]=1\n",
    "    one_hot = one_hot.transpose()\n",
    "    return one_hot"
   ]
  },
  {
   "cell_type": "code",
   "execution_count": 2,
   "metadata": {},
   "outputs": [
    {
     "ename": "FileNotFoundError",
     "evalue": "[Errno 2] No such file or directory: 'hw4_data/video_0_5_12/trimmed_val.npy'",
     "output_type": "error",
     "traceback": [
      "\u001b[0;31m---------------------------------------------------------------------------\u001b[0m",
      "\u001b[0;31mFileNotFoundError\u001b[0m                         Traceback (most recent call last)",
      "\u001b[0;32m<ipython-input-2-1eb1f4ed3b83>\u001b[0m in \u001b[0;36m<module>\u001b[0;34m\u001b[0m\n\u001b[1;32m      1\u001b[0m \u001b[0minput_path\u001b[0m \u001b[0;34m=\u001b[0m \u001b[0;34m'hw4_data/TrimmedVideos/video/valid'\u001b[0m\u001b[0;34m\u001b[0m\u001b[0m\n\u001b[0;32m----> 2\u001b[0;31m \u001b[0mdata\u001b[0m \u001b[0;34m=\u001b[0m \u001b[0mnp\u001b[0m\u001b[0;34m.\u001b[0m\u001b[0mload\u001b[0m\u001b[0;34m(\u001b[0m\u001b[0;34m'hw4_data/video_0_5_12/trimmed_val.npy'\u001b[0m\u001b[0;34m)\u001b[0m\u001b[0;34m\u001b[0m\u001b[0m\n\u001b[0m\u001b[1;32m      3\u001b[0m \u001b[0mlabels\u001b[0m \u001b[0;34m=\u001b[0m \u001b[0mgetVideoList\u001b[0m\u001b[0;34m(\u001b[0m\u001b[0;34m'hw4_data/TrimmedVideos/label/gt_valid.csv'\u001b[0m\u001b[0;34m)\u001b[0m\u001b[0;34m[\u001b[0m\u001b[0;34m'Action_labels'\u001b[0m\u001b[0;34m]\u001b[0m\u001b[0;34m\u001b[0m\u001b[0m\n\u001b[1;32m      4\u001b[0m \u001b[0mlabels\u001b[0m \u001b[0;34m=\u001b[0m \u001b[0mnp\u001b[0m\u001b[0;34m.\u001b[0m\u001b[0marray\u001b[0m\u001b[0;34m(\u001b[0m\u001b[0mlabels\u001b[0m\u001b[0;34m)\u001b[0m\u001b[0;34m.\u001b[0m\u001b[0mastype\u001b[0m\u001b[0;34m(\u001b[0m\u001b[0;34m'int'\u001b[0m\u001b[0;34m)\u001b[0m\u001b[0;34m\u001b[0m\u001b[0m\n",
      "\u001b[0;32m/usr/local/lib/python3.5/dist-packages/numpy/lib/npyio.py\u001b[0m in \u001b[0;36mload\u001b[0;34m(file, mmap_mode, allow_pickle, fix_imports, encoding)\u001b[0m\n\u001b[1;32m    413\u001b[0m         \u001b[0mown_fid\u001b[0m \u001b[0;34m=\u001b[0m \u001b[0;32mFalse\u001b[0m\u001b[0;34m\u001b[0m\u001b[0m\n\u001b[1;32m    414\u001b[0m     \u001b[0;32melse\u001b[0m\u001b[0;34m:\u001b[0m\u001b[0;34m\u001b[0m\u001b[0m\n\u001b[0;32m--> 415\u001b[0;31m         \u001b[0mfid\u001b[0m \u001b[0;34m=\u001b[0m \u001b[0mopen\u001b[0m\u001b[0;34m(\u001b[0m\u001b[0mos_fspath\u001b[0m\u001b[0;34m(\u001b[0m\u001b[0mfile\u001b[0m\u001b[0;34m)\u001b[0m\u001b[0;34m,\u001b[0m \u001b[0;34m\"rb\"\u001b[0m\u001b[0;34m)\u001b[0m\u001b[0;34m\u001b[0m\u001b[0m\n\u001b[0m\u001b[1;32m    416\u001b[0m         \u001b[0mown_fid\u001b[0m \u001b[0;34m=\u001b[0m \u001b[0;32mTrue\u001b[0m\u001b[0;34m\u001b[0m\u001b[0m\n\u001b[1;32m    417\u001b[0m \u001b[0;34m\u001b[0m\u001b[0m\n",
      "\u001b[0;31mFileNotFoundError\u001b[0m: [Errno 2] No such file or directory: 'hw4_data/video_0_5_12/trimmed_val.npy'"
     ]
    }
   ],
   "source": [
    "input_path = 'hw4_data/TrimmedVideos/video/valid'\n",
    "data = np.load('hw4_data/video_0_5_12/trimmed_val.npy')\n",
    "labels = getVideoList('hw4_data/TrimmedVideos/label/gt_valid.csv')['Action_labels']\n",
    "labels = np.array(labels).astype('int')"
   ]
  },
  {
   "cell_type": "code",
   "execution_count": null,
   "metadata": {},
   "outputs": [],
   "source": [
    "model = CNNFeature().cuda()\n",
    "model.load_state_dict(torch.load('model/answer_1_classifier.pth'),strict=False)\n",
    "result = feature_embedding(model,data,labels,\n",
    "                           \"CNN-based features t-SNE result of vaildation data \",\n",
    "                           basic_predict,get_max=False)"
   ]
  },
  {
   "cell_type": "code",
   "execution_count": null,
   "metadata": {},
   "outputs": [],
   "source": [
    "data = np.load('hw4_data/video_0_5_12/trimmed_val_full.npy')\n",
    "labels = getVideoList('hw4_data/TrimmedVideos/label/gt_valid.csv')['Action_labels']\n",
    "labels = np.array(labels).astype('int')"
   ]
  },
  {
   "cell_type": "code",
   "execution_count": null,
   "metadata": {},
   "outputs": [],
   "source": [
    "model = RNNFeature(hidden=512,num_layers=9,get_last=True).cuda()\n",
    "model.load_state_dict(torch.load('model/answer_3_56.37_classifier.pth'),strict=False)"
   ]
  },
  {
   "cell_type": "code",
   "execution_count": null,
   "metadata": {},
   "outputs": [],
   "source": [
    "result = feature_embedding(model,data,labels,\n",
    "                           \"RNN-based features t-SNE result of vaildation data \",\n",
    "                           seq_predict,lengths=lengths,get_max=False)"
   ]
  },
  {
   "cell_type": "code",
   "execution_count": null,
   "metadata": {},
   "outputs": [],
   "source": [
    "with open('model/answer_1_record.txt',\"r\") as fp:\n",
    "    record_1 = json.load(fp)\n",
    "plot_acc(record_1,'Accuracy per epoch of answer 1')\n",
    "plot_loss(record_1,'Loss per epoch of answer 1')"
   ]
  },
  {
   "cell_type": "code",
   "execution_count": null,
   "metadata": {},
   "outputs": [],
   "source": [
    "with open('model/answer_2_record.txt',\"r\") as fp:\n",
    "    record_2 = json.load(fp)\n",
    "plot_acc(record_2,'Accuracy per epoch of answer 2')\n",
    "plot_loss(record_2,'Loss per epoch of answer 2')"
   ]
  },
  {
   "cell_type": "code",
   "execution_count": null,
   "metadata": {},
   "outputs": [],
   "source": [
    "with open('model/answer_3_56.37_record.txt',\"r\") as fp:\n",
    "    record_3 = json.load(fp)\n",
    "plot_acc(record_3,'Accuracy per epoch of answer 3')\n",
    "plot_loss(record_3,'Loss per epoch of answer 3')"
   ]
  },
  {
   "cell_type": "code",
   "execution_count": null,
   "metadata": {},
   "outputs": [],
   "source": [
    "output = get_labels('output2/p1_valid.txt')\n",
    "answer = np.array(getVideoList('hw4_data/TrimmedVideos/label/gt_valid.csv')['Action_labels']).astype('int')\n",
    "sum(np.array(output)==np.array(answer))/len(output)"
   ]
  },
  {
   "cell_type": "code",
   "execution_count": null,
   "metadata": {},
   "outputs": [],
   "source": [
    "output = get_labels('output2/p2_result.txt')\n",
    "answer = np.array(getVideoList('hw4_data/TrimmedVideos/label/gt_valid.csv')['Action_labels']).astype('int')\n",
    "sum(np.array(output)==np.array(answer))/len(output)"
   ]
  },
  {
   "cell_type": "code",
   "execution_count": null,
   "metadata": {},
   "outputs": [],
   "source": [
    "outputs = []\n",
    "answers = []\n",
    "for name in ['OP01-R02-TurkeySandwich','OP01-R04-ContinentalBreakfast','OP01-R07-Pizza',\n",
    "             'OP03-R04-ContinentalBreakfast','OP04-R04-ContinentalBreakfast',\n",
    "             'OP05-R04-ContinentalBreakfast','OP06-R03-BaconAndEggs']:\n",
    "    name += '.txt'\n",
    "    output = get_labels('output2/'+name)\n",
    "    answer = get_labels('hw4_data/FullLengthVideos/labels/valid/'+name)\n",
    "    outputs += output\n",
    "    answers += answer"
   ]
  },
  {
   "cell_type": "code",
   "execution_count": null,
   "metadata": {},
   "outputs": [],
   "source": [
    "sum(np.array(outputs)==np.array(answers))/len(outputs)"
   ]
  },
  {
   "cell_type": "code",
   "execution_count": null,
   "metadata": {},
   "outputs": [],
   "source": [
    "frames = read_frames('hw4_data/FullLengthVideos/videos/valid/OP04-R04-ContinentalBreakfast')"
   ]
  },
  {
   "cell_type": "code",
   "execution_count": null,
   "metadata": {},
   "outputs": [],
   "source": [
    "for timestep in range(500,700,5):\n",
    "    fig, ax = plt.subplots()\n",
    "    ax = fig.add_axes([0, 0, 1, 1])\n",
    "    ax.axis('off')\n",
    "    ax.xaxis.set_label_position('top')\n",
    "    plt.imshow(frames[timestep].transpose(1,2,0))\n",
    "    plt.savefig(\"pic/timestep_{}.png\".format(timestep))"
   ]
  },
  {
   "cell_type": "code",
   "execution_count": null,
   "metadata": {},
   "outputs": [],
   "source": [
    "current_palette = [\"red\", \"green\", \"blue\", \n",
    "                   \"purple\",\"pink\",\"gray\",\n",
    "                   \"black\",\"darkgreen\",\"tan\",\n",
    "                   \"deepskyblue\",\"gold\"]"
   ]
  },
  {
   "cell_type": "code",
   "execution_count": null,
   "metadata": {},
   "outputs": [],
   "source": [
    "answer_one_hot_[:,200:210]"
   ]
  },
  {
   "cell_type": "code",
   "execution_count": null,
   "metadata": {},
   "outputs": [],
   "source": [
    "answer_one_hot_ = get_ann('hw4_data/FullLengthVideos/labels/valid/OP04-R04-ContinentalBreakfast.txt')\n",
    "predict_one_hot_ = get_ann('output2/OP04-R04-ContinentalBreakfast.txt')"
   ]
  },
  {
   "cell_type": "code",
   "execution_count": null,
   "metadata": {},
   "outputs": [],
   "source": [
    "for step in range(0,500,100):\n",
    "    first = 200 + step\n",
    "    second = 300 + step\n",
    "    answer_one_hot = answer_one_hot_[:,first:second]\n",
    "    predict_one_hot = predict_one_hot_[:,first:second]\n",
    "    fig, ax = plt.subplots()\n",
    "    #ax = fig.add_axes([0, 0, 1, 1])\n",
    "    #ax.axis('off')\n",
    "    plt.stackplot(list(range(answer_one_hot.shape[1])),answer_one_hot,colors=current_palette)\n",
    "    #plt.xlabel(\"Timestep of answer: {}~{}\".format(first,second))\n",
    "    plt.savefig(\"pic/answer_{}_to_{}.png\".format(first,second))\n",
    "    fig, ax = plt.subplots()\n",
    "    ax = fig.add_axes([0, 0, 1, 1])\n",
    "    #ax.axis('off')\n",
    "    #ax.xaxis.set_label_position('top')\n",
    "    plt.stackplot(list(range(predict_one_hot.shape[1])),predict_one_hot,colors=current_palette)\n",
    "    #plt.xlabel(\"Timestep of prediction: {}~{}\".format(first,second))\n",
    "    plt.savefig(\"pic/prediction_{}_to_{}.png\".format(first,second))"
   ]
  },
  {
   "cell_type": "code",
   "execution_count": null,
   "metadata": {},
   "outputs": [],
   "source": []
  },
  {
   "cell_type": "code",
   "execution_count": null,
   "metadata": {},
   "outputs": [],
   "source": []
  }
 ],
 "metadata": {
  "kernelspec": {
   "display_name": "Python 3",
   "language": "python",
   "name": "python3"
  },
  "language_info": {
   "codemirror_mode": {
    "name": "ipython",
    "version": 3
   },
   "file_extension": ".py",
   "mimetype": "text/x-python",
   "name": "python",
   "nbconvert_exporter": "python",
   "pygments_lexer": "ipython3",
   "version": "3.5.2"
  }
 },
 "nbformat": 4,
 "nbformat_minor": 2
}
