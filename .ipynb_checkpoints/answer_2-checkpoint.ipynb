{
 "cells": [
  {
   "cell_type": "code",
   "execution_count": null,
   "metadata": {},
   "outputs": [],
   "source": [
    "import os\n",
    "os.environ[\"CUDA_VISIBLE_DEVICES\"]=\"2\"\n",
    "import torch\n",
    "torch.backends.cudnn.benchmark = True"
   ]
  },
  {
   "cell_type": "code",
   "execution_count": null,
   "metadata": {},
   "outputs": [],
   "source": [
    "from reader import getVideoList\n",
    "import numpy as np\n",
    "from model import CRClassifier\n",
    "import torch\n",
    "from worker import SeqWorker\n",
    "import pandas as pd"
   ]
  },
  {
   "cell_type": "code",
   "execution_count": null,
   "metadata": {},
   "outputs": [],
   "source": [
    "rescale_val_x = np.load('hw4_data/video_0_5_12/trimmed_val_full.npy')\n",
    "val_lengths = list(pd.read_csv('hw4_data/video_0_5_12/trimmed_val_full.txt',header=None)[0])\n",
    "val_y = getVideoList('hw4_data/TrimmedVideos/label/gt_valid.csv')['Action_labels']\n",
    "val_y = np.array(val_y).astype('int')"
   ]
  },
  {
   "cell_type": "code",
   "execution_count": null,
   "metadata": {},
   "outputs": [],
   "source": [
    "fb = CRClassifier(hidden=2,num_layers=1).cuda()\n",
    "worker = SeqWorker()\n",
    "worker.batch_size=1\n",
    "worker.epoch=20"
   ]
  },
  {
   "cell_type": "code",
   "execution_count": null,
   "metadata": {},
   "outputs": [],
   "source": [
    "optim = torch.optim.Adam(fb.parameters(),lr=1e-5,amsgrad=True)\n",
    "record = worker.train(fb,optim,\n",
    "                      rescale_val_x,val_y,\n",
    "                      rescale_val_x,val_y,\n",
    "                      val_lengths,val_lengths)"
   ]
  },
  {
   "cell_type": "code",
   "execution_count": null,
   "metadata": {},
   "outputs": [],
   "source": []
  }
 ],
 "metadata": {
  "kernelspec": {
   "display_name": "Python 3",
   "language": "python",
   "name": "python3"
  },
  "language_info": {
   "codemirror_mode": {
    "name": "ipython",
    "version": 3
   },
   "file_extension": ".py",
   "mimetype": "text/x-python",
   "name": "python",
   "nbconvert_exporter": "python",
   "pygments_lexer": "ipython3",
   "version": "3.5.2"
  }
 },
 "nbformat": 4,
 "nbformat_minor": 2
}
